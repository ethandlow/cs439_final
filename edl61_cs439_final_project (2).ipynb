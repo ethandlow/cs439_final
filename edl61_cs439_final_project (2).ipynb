{
 "cells": [
  {
   "cell_type": "markdown",
   "id": "edfc6daf",
   "metadata": {},
   "source": [
    "# Step 1: Import Libraries\n",
    "This cell imports necessary libraries such as pandas and numpy, which are essential for data analysis and numerical operations."
   ]
  },
  {
   "cell_type": "code",
   "execution_count": 1,
   "id": "232dace0-8610-4e5e-8752-a0c504d67a6c",
   "metadata": {},
   "outputs": [],
   "source": [
    "import pandas as pd\n",
    "import numpy as np"
   ]
  },
  {
   "cell_type": "markdown",
   "id": "28bb396d",
   "metadata": {},
   "source": [
    "# Step 2: Load and Inspect Data\n",
    "This cell loads the dataset from a CSV file into a pandas DataFrame and prints the initial rows and basic information to understand the structure and contents of the data."
   ]
  },
  {
   "cell_type": "code",
   "execution_count": 2,
   "id": "a9e461bf-36fe-4950-8a21-0a8d9453dba7",
   "metadata": {},
   "outputs": [
    {
     "name": "stdout",
     "output_type": "stream",
     "text": [
      "              DateTime      Open      High       Low    Close  Volume\n",
      "0  1/1/2020 6:01:00 PM  10874.25  10876.75  10867.50  10871.0     555\n",
      "1  1/1/2020 6:02:00 PM  10870.75  10871.50  10868.00  10868.0     176\n",
      "2  1/1/2020 6:03:00 PM  10867.75  10869.00  10867.00  10868.5     251\n",
      "3  1/1/2020 6:04:00 PM  10869.00  10870.75  10869.00  10870.5     125\n",
      "4  1/1/2020 6:05:00 PM  10870.50  10870.75  10868.75  10869.0      73\n",
      "<class 'pandas.core.frame.DataFrame'>\n",
      "RangeIndex: 1861999 entries, 0 to 1861998\n",
      "Data columns (total 6 columns):\n",
      " #   Column    Dtype  \n",
      "---  ------    -----  \n",
      " 0   DateTime  object \n",
      " 1   Open      float64\n",
      " 2   High      float64\n",
      " 3   Low       float64\n",
      " 4   Close     float64\n",
      " 5   Volume    int64  \n",
      "dtypes: float64(4), int64(1), object(1)\n",
      "memory usage: 85.2+ MB\n",
      "None\n"
     ]
    }
   ],
   "source": [
    "data = pd.read_csv(\"NQ_1_Min.csv\")\n",
    "\n",
    "df = data.copy()\n",
    "\n",
    "print(df.head())\n",
    "print(df.info())"
   ]
  },
  {
   "cell_type": "markdown",
   "id": "7b868b67",
   "metadata": {},
   "source": [
    "# Step 3: Convert DateTime Column\n",
    "Converts the 'DateTime' column from a string format to a pandas datetime object for easier time-based operations."
   ]
  },
  {
   "cell_type": "code",
   "execution_count": 3,
   "id": "cb8a56ce-a39f-4caf-803a-be71bb668a3a",
   "metadata": {},
   "outputs": [
    {
     "name": "stdout",
     "output_type": "stream",
     "text": [
      "<class 'pandas.core.frame.DataFrame'>\n",
      "RangeIndex: 1861999 entries, 0 to 1861998\n",
      "Data columns (total 6 columns):\n",
      " #   Column    Dtype         \n",
      "---  ------    -----         \n",
      " 0   DateTime  datetime64[ns]\n",
      " 1   Open      float64       \n",
      " 2   High      float64       \n",
      " 3   Low       float64       \n",
      " 4   Close     float64       \n",
      " 5   Volume    int64         \n",
      "dtypes: datetime64[ns](1), float64(4), int64(1)\n",
      "memory usage: 85.2 MB\n",
      "None\n"
     ]
    }
   ],
   "source": [
    "df['DateTime'] = pd.to_datetime(df['DateTime'], format=\"%m/%d/%Y %I:%M:%S %p\")\n",
    "\n",
    "print(df.info())"
   ]
  },
  {
   "cell_type": "markdown",
   "id": "146836d7",
   "metadata": {},
   "source": [
    "# Step 4: Feature Engineering\n",
    "Creates additional useful features:\n",
    "- 'Color': Indicates if the candle is bullish or bearish.\n",
    "- 'Candle_size': The total range of each candle.\n",
    "- 'Body_size': The size of the candle body (difference between open and close prices)."
   ]
  },
  {
   "cell_type": "code",
   "execution_count": 4,
   "id": "3771f4b8-c056-4213-9a3e-e1eb4b62b32a",
   "metadata": {},
   "outputs": [
    {
     "name": "stdout",
     "output_type": "stream",
     "text": [
      "             DateTime      Open      High       Low    Close  Volume  Color  \\\n",
      "0 2020-01-01 18:01:00  10874.25  10876.75  10867.50  10871.0     555  False   \n",
      "1 2020-01-01 18:02:00  10870.75  10871.50  10868.00  10868.0     176  False   \n",
      "2 2020-01-01 18:03:00  10867.75  10869.00  10867.00  10868.5     251   True   \n",
      "3 2020-01-01 18:04:00  10869.00  10870.75  10869.00  10870.5     125   True   \n",
      "4 2020-01-01 18:05:00  10870.50  10870.75  10868.75  10869.0      73  False   \n",
      "\n",
      "   Candle_size  Body_size  \n",
      "0         9.25       3.25  \n",
      "1         3.50       2.75  \n",
      "2         2.00       0.75  \n",
      "3         1.75       1.50  \n",
      "4         2.00       1.50  \n"
     ]
    }
   ],
   "source": [
    "df['Color'] = df['Close'] > df['Open']\n",
    "\n",
    "df['Candle_size'] = df['High'] - df['Low']\n",
    "df['Body_size'] = abs(df['Close'] - df['Open'])\n",
    "\n",
    "print(df.head())"
   ]
  },
  {
   "cell_type": "markdown",
   "id": "265f8b47",
   "metadata": {},
   "source": [
    "# Step 5: Session Classification\n",
    "Classifies each data point into trading sessions based on the time of day:\n",
    "- Asia (18:00–03:00)\n",
    "- London (03:00–09:30)\n",
    "- New York (09:30–17:00)"
   ]
  },
  {
   "cell_type": "code",
   "execution_count": 5,
   "id": "66af8ca7-55dc-4877-9a9f-933dc712ca4f",
   "metadata": {},
   "outputs": [
    {
     "name": "stdout",
     "output_type": "stream",
     "text": [
      "             DateTime      Open      High       Low    Close  Volume  Color  \\\n",
      "0 2020-01-01 18:01:00  10874.25  10876.75  10867.50  10871.0     555  False   \n",
      "1 2020-01-01 18:02:00  10870.75  10871.50  10868.00  10868.0     176  False   \n",
      "2 2020-01-01 18:03:00  10867.75  10869.00  10867.00  10868.5     251   True   \n",
      "3 2020-01-01 18:04:00  10869.00  10870.75  10869.00  10870.5     125   True   \n",
      "4 2020-01-01 18:05:00  10870.50  10870.75  10868.75  10869.0      73  False   \n",
      "\n",
      "   Candle_size  Body_size Session  \n",
      "0         9.25       3.25    Asia  \n",
      "1         3.50       2.75    Asia  \n",
      "2         2.00       0.75    Asia  \n",
      "3         1.75       1.50    Asia  \n",
      "4         2.00       1.50    Asia  \n",
      "<class 'pandas.core.frame.DataFrame'>\n",
      "RangeIndex: 1861999 entries, 0 to 1861998\n",
      "Data columns (total 10 columns):\n",
      " #   Column       Dtype         \n",
      "---  ------       -----         \n",
      " 0   DateTime     datetime64[ns]\n",
      " 1   Open         float64       \n",
      " 2   High         float64       \n",
      " 3   Low          float64       \n",
      " 4   Close        float64       \n",
      " 5   Volume       int64         \n",
      " 6   Color        bool          \n",
      " 7   Candle_size  float64       \n",
      " 8   Body_size    float64       \n",
      " 9   Session      object        \n",
      "dtypes: bool(1), datetime64[ns](1), float64(6), int64(1), object(1)\n",
      "memory usage: 129.6+ MB\n",
      "None\n"
     ]
    }
   ],
   "source": [
    "# Extract hours and minutes as floats (e.g., 18.5 = 6:30 PM)\n",
    "times = df['DateTime'].dt.hour + df['DateTime'].dt.minute / 60\n",
    "\n",
    "# Create empty session array\n",
    "sessions = np.full(len(df), 'Other', dtype=object)\n",
    "\n",
    "# Session rules\n",
    "# Asia: 18:00 – 24:00 (6 PM – midnight) OR 0:00 – 3:00 AM\n",
    "asia_mask = (times >= 18) | (times < 3)\n",
    "# London: 3:00 – 9:30 AM\n",
    "london_mask = (times >= 3) & (times < 9.5)\n",
    "# NY: 9:30 AM – 5:00 PM\n",
    "ny_mask = (times >= 9.5) & (times < 17)\n",
    "\n",
    "# Apply session labels\n",
    "sessions[asia_mask] = 'Asia'\n",
    "sessions[london_mask] = 'London'\n",
    "sessions[ny_mask] = 'New York'\n",
    "\n",
    "# Assign to DataFrame\n",
    "df['Session'] = sessions\n",
    "\n",
    "print(df.head())\n",
    "print(df.info())"
   ]
  },
  {
   "cell_type": "markdown",
   "id": "5da0a3bb",
   "metadata": {},
   "source": [
    "# Step 6: Candlestick Pattern Recognition\n",
    "Identifies bullish and bearish reversal patterns using candlestick analysis logic involving comparisons across consecutive bars."
   ]
  },
  {
   "cell_type": "code",
   "execution_count": 6,
   "id": "2fd55b1e-830a-4e8a-9541-9c5f775aad88",
   "metadata": {},
   "outputs": [
    {
     "name": "stdout",
     "output_type": "stream",
     "text": [
      "             DateTime      Open      High       Low    Close  Volume  Color  \\\n",
      "0 2020-01-01 18:01:00  10874.25  10876.75  10867.50  10871.0     555  False   \n",
      "1 2020-01-01 18:02:00  10870.75  10871.50  10868.00  10868.0     176  False   \n",
      "2 2020-01-01 18:03:00  10867.75  10869.00  10867.00  10868.5     251   True   \n",
      "3 2020-01-01 18:04:00  10869.00  10870.75  10869.00  10870.5     125   True   \n",
      "4 2020-01-01 18:05:00  10870.50  10870.75  10868.75  10869.0      73  False   \n",
      "\n",
      "   Candle_size  Body_size Session  bullish_reversal  bearish_reversal  \n",
      "0         9.25       3.25    Asia             False             False  \n",
      "1         3.50       2.75    Asia             False             False  \n",
      "2         2.00       0.75    Asia             False             False  \n",
      "3         1.75       1.50    Asia              True             False  \n",
      "4         2.00       1.50    Asia             False             False  \n"
     ]
    }
   ],
   "source": [
    "# For easier reference\n",
    "high = df['High'].values\n",
    "low = df['Low'].values\n",
    "close = df['Close'].values\n",
    "\n",
    "# Shifted arrays\n",
    "high1 = high[:-2]\n",
    "low1 = low[:-2]\n",
    "high2 = high[1:-1]\n",
    "low2 = low[1:-1]\n",
    "high3 = high[2:]\n",
    "low3 = low[2:]\n",
    "close3 = close[2:]\n",
    "\n",
    "# Apply pattern logic\n",
    "cond1 = high2 < high1           # Bar 2 high < Bar 1 high\n",
    "cond2 = low2 < low1             # Bar 2 low < Bar 1 low\n",
    "cond3 = low3 > low2             # Bar 3 low > Bar 2 low\n",
    "cond4 = close3 > high2          # Bar 3 close > Bar 2 high\n",
    "\n",
    "# Combine conditions\n",
    "pattern_matches = cond1 & cond2 & cond3 & cond4\n",
    "\n",
    "# Create full-size result array\n",
    "pattern_flags = np.zeros(len(df), dtype=bool)\n",
    "pattern_flags[2:] = pattern_matches\n",
    "\n",
    "# Assign to DataFrame\n",
    "df['bullish_reversal'] = pattern_flags\n",
    "\n",
    "# Bearish pattern logic\n",
    "cond1_bear = high2 > high1         # Bar 2 high > Bar 1 high\n",
    "cond2_bear = low2 > low1           # Bar 2 low > Bar 1 low\n",
    "cond3_bear = high3 < high2         # Bar 3 high < Bar 2 high\n",
    "cond4_bear = close3 < low2         # Bar 3 close < Bar 2 low\n",
    "\n",
    "pattern_matches_bear = cond1_bear & cond2_bear & cond3_bear & cond4_bear\n",
    "\n",
    "# Full-size result array\n",
    "bearish_flags = np.zeros(len(df), dtype=bool)\n",
    "bearish_flags[2:] = pattern_matches_bear\n",
    "\n",
    "# Assign to DataFrame\n",
    "df['bearish_reversal'] = bearish_flags\n",
    "\n",
    "print(df.head())"
   ]
  },
  {
   "cell_type": "markdown",
   "id": "4e215248",
   "metadata": {},
   "source": [
    "# Step 7: Trade Outcome Evaluation\n",
    "Evaluates trade outcomes based on identified candlestick patterns, checking whether hypothetical trades would hit a target or a stop-loss within a specified number of bars ahead."
   ]
  },
  {
   "cell_type": "code",
   "execution_count": 7,
   "id": "df9ab752-eba0-4f47-b0b2-30adf06543ba",
   "metadata": {},
   "outputs": [
    {
     "name": "stdout",
     "output_type": "stream",
     "text": [
      "             DateTime      Open      High       Low    Close  Volume  Color  \\\n",
      "0 2020-01-01 18:01:00  10874.25  10876.75  10867.50  10871.0     555  False   \n",
      "1 2020-01-01 18:02:00  10870.75  10871.50  10868.00  10868.0     176  False   \n",
      "2 2020-01-01 18:03:00  10867.75  10869.00  10867.00  10868.5     251   True   \n",
      "3 2020-01-01 18:04:00  10869.00  10870.75  10869.00  10870.5     125   True   \n",
      "4 2020-01-01 18:05:00  10870.50  10870.75  10868.75  10869.0      73  False   \n",
      "\n",
      "   Candle_size  Body_size Session  bullish_reversal  bearish_reversal  \\\n",
      "0         9.25       3.25    Asia             False             False   \n",
      "1         3.50       2.75    Asia             False             False   \n",
      "2         2.00       0.75    Asia             False             False   \n",
      "3         1.75       1.50    Asia              True             False   \n",
      "4         2.00       1.50    Asia             False             False   \n",
      "\n",
      "  bullish_reversal_outcome bearish_reversal_outcome  \n",
      "0                     None                     None  \n",
      "1                     None                     None  \n",
      "2                     None                     None  \n",
      "3                     None                     None  \n",
      "4                     None                     None  \n"
     ]
    }
   ],
   "source": [
    "def evaluate_trade_numpy(df, pattern_col='bullish_reversal', bars_ahead=5):\n",
    "    # Pre-extract arrays for fast access\n",
    "    highs = df['High'].values\n",
    "    lows = df['Low'].values\n",
    "    opens = df['Open'].values\n",
    "\n",
    "    outcomes = np.full(len(df), None, dtype=object)\n",
    "\n",
    "    pattern_indices = np.where(df[pattern_col].values)[0]\n",
    "\n",
    "    for i in pattern_indices:\n",
    "        if i < 2 or i + bars_ahead >= len(df):\n",
    "            continue\n",
    "\n",
    "        entry_idx = i + 1\n",
    "        stop = lows[i - 1]  # 2nd bar's low\n",
    "        entry = opens[entry_idx]\n",
    "        risk = entry - stop\n",
    "        target = entry + risk\n",
    "\n",
    "        if risk <= 0:\n",
    "            continue\n",
    "\n",
    "        future_highs = highs[entry_idx : entry_idx + bars_ahead]\n",
    "        future_lows = lows[entry_idx : entry_idx + bars_ahead]\n",
    "\n",
    "        # Check for stop/target conditions\n",
    "        for high, low in zip(future_highs, future_lows):\n",
    "            if low <= stop and high >= target:\n",
    "                break  # Discard: both hit\n",
    "            elif high >= target:\n",
    "                outcomes[entry_idx] = True\n",
    "                break\n",
    "            elif low <= stop:\n",
    "                outcomes[entry_idx] = False\n",
    "                break\n",
    "\n",
    "    return pd.Series(outcomes, index=df.index)\n",
    "\n",
    "df['bullish_reversal_outcome'] = evaluate_trade_numpy(df, bars_ahead=5)\n",
    "\n",
    "def evaluate_trade_numpy_bearish(df, pattern_col='bearish_reversal', bars_ahead=5):\n",
    "    highs = df['High'].values\n",
    "    lows = df['Low'].values\n",
    "    opens = df['Open'].values\n",
    "\n",
    "    outcomes = np.full(len(df), None, dtype=object)\n",
    "\n",
    "    pattern_indices = np.where(df[pattern_col].values)[0]\n",
    "\n",
    "    for i in pattern_indices:\n",
    "        if i < 2 or i + bars_ahead >= len(df):\n",
    "            continue\n",
    "\n",
    "        entry_idx = i + 1\n",
    "        stop = highs[i - 1]  # 2nd bar's high\n",
    "        entry = opens[entry_idx]\n",
    "        risk = stop - entry\n",
    "        target = entry - risk\n",
    "\n",
    "        if risk <= 0:\n",
    "            continue\n",
    "\n",
    "        future_highs = highs[entry_idx : entry_idx + bars_ahead]\n",
    "        future_lows = lows[entry_idx : entry_idx + bars_ahead]\n",
    "\n",
    "        for high, low in zip(future_highs, future_lows):\n",
    "            if low <= target and high >= stop:\n",
    "                break  # Discard: both hit\n",
    "            elif low <= target:\n",
    "                outcomes[entry_idx] = True\n",
    "                break\n",
    "            elif high >= stop:\n",
    "                outcomes[entry_idx] = False\n",
    "                break\n",
    "\n",
    "    return pd.Series(outcomes, index=df.index)\n",
    "\n",
    "df['bearish_reversal_outcome'] = evaluate_trade_numpy_bearish(df, bars_ahead=5)\n",
    "\n",
    "print(df.head())"
   ]
  },
  {
   "cell_type": "markdown",
   "id": "5362283a",
   "metadata": {},
   "source": [
    "# Step 8: Pattern Performance Analysis\n",
    "Summarizes the trading performance, showing the number of wins, losses, and skipped or invalid trades for both bullish and bearish setups."
   ]
  },
  {
   "cell_type": "code",
   "execution_count": 8,
   "id": "88d4ac34-27d5-49cf-aa68-cb3f7d0fffc1",
   "metadata": {},
   "outputs": [
    {
     "name": "stdout",
     "output_type": "stream",
     "text": [
      "Wins:   35010\n",
      "Losses: 34466\n",
      "Skipped/Invalid: 1792523\n"
     ]
    }
   ],
   "source": [
    "outcomes = df['bullish_reversal_outcome']\n",
    "\n",
    "num_wins = outcomes.sum()                     # True == 1\n",
    "num_skipped = outcomes.isna().sum()\n",
    "num_losses = (outcomes == False).sum()\n",
    "\n",
    "print(f\"Wins:   {num_wins}\")\n",
    "print(f\"Losses: {num_losses}\")\n",
    "print(f\"Skipped/Invalid: {num_skipped}\")"
   ]
  },
  {
   "cell_type": "code",
   "execution_count": 9,
   "id": "bb5d629c-6e97-4aea-9ad5-8ca9160e623d",
   "metadata": {},
   "outputs": [
    {
     "name": "stdout",
     "output_type": "stream",
     "text": [
      "Wins:   36370\n",
      "Losses: 34961\n",
      "Skipped/Invalid: 1790668\n"
     ]
    }
   ],
   "source": [
    "outcomes = df['bearish_reversal_outcome']\n",
    "\n",
    "num_wins = outcomes.sum()                     # True == 1\n",
    "num_skipped = outcomes.isna().sum()\n",
    "num_losses = (outcomes == False).sum()\n",
    "\n",
    "print(f\"Wins:   {num_wins}\")\n",
    "print(f\"Losses: {num_losses}\")\n",
    "print(f\"Skipped/Invalid: {num_skipped}\")"
   ]
  },
  {
   "cell_type": "markdown",
   "id": "98b304c8",
   "metadata": {},
   "source": [
    "# Step 9: Profit and Loss Calculation\n",
    "Calculates cumulative profit and loss (PnL) for each trade signal (bullish and bearish), generating equity curves to visualize the strategy's performance over time."
   ]
  },
  {
   "cell_type": "code",
   "execution_count": 10,
   "id": "e6c0cecc-f8c5-46f5-8580-bfcb6f7b7f42",
   "metadata": {},
   "outputs": [],
   "source": [
    "df['pnl_bullish'] = df['bullish_reversal_outcome'].map({True: 1, False: -1}).fillna(0)\n",
    "df['pnl_bearish'] = df['bearish_reversal_outcome'].map({True: 1, False: -1}).fillna(0)\n",
    "\n",
    "df['equity_bullish'] = df['pnl_bullish'].cumsum()\n",
    "df['equity_bearish'] = df['pnl_bearish'].cumsum()\n",
    "\n",
    "df['equity_total'] = df['pnl_bullish'] + df['pnl_bearish']\n",
    "df['equity_total'] = df['equity_total'].cumsum()"
   ]
  },
  {
   "cell_type": "code",
   "execution_count": 11,
   "id": "ae34cc78-8b72-4e51-b9c4-376123bc77c9",
   "metadata": {},
   "outputs": [],
   "source": [
    "import matplotlib.pyplot as plt"
   ]
  },
  {
   "cell_type": "code",
   "execution_count": null,
   "id": "6b7dfac3-ef82-4633-96c3-70bc530d3f64",
   "metadata": {},
   "outputs": [],
   "source": [
    "plt.figure(figsize=(14, 6))\n",
    "plt.plot(df['DateTime'], df['equity_bullish'], label='Bullish Reversal Equity')\n",
    "plt.plot(df['DateTime'], df['equity_bearish'], label='Bearish Reversal Equity')\n",
    "plt.plot(df['DateTime'], df['equity_total'], label='Total Equity')\n",
    "plt.title('Equity Curve by Trade Type')\n",
    "plt.xlabel('Time')\n",
    "plt.ylabel('Cumulative PnL (R)')\n",
    "plt.legend()\n",
    "plt.grid(True)\n",
    "plt.tight_layout()\n",
    "plt.show()"
   ]
  },
  {
   "cell_type": "code",
   "execution_count": 13,
   "id": "b3a4b199-50b4-4947-9330-26253334ca65",
   "metadata": {},
   "outputs": [],
   "source": [
    "from sklearn.model_selection import train_test_split\n",
    "from sklearn.ensemble import RandomForestClassifier\n",
    "from sklearn.metrics import classification_report"
   ]
  },
  {
   "cell_type": "code",
   "execution_count": 14,
   "id": "765e1648-6a5d-452c-bea3-e65217721f36",
   "metadata": {},
   "outputs": [
    {
     "name": "stdout",
     "output_type": "stream",
     "text": [
      "\n",
      "--- Results for bullish_reversal_outcome ---\n",
      "              precision    recall  f1-score   support\n",
      "\n",
      "           0       0.76      0.76      0.76      6961\n",
      "           1       0.76      0.76      0.76      6935\n",
      "\n",
      "    accuracy                           0.76     13896\n",
      "   macro avg       0.76      0.76      0.76     13896\n",
      "weighted avg       0.76      0.76      0.76     13896\n",
      "\n",
      "\n",
      "Top Feature Importances:\n",
      "Color               0.611585\n",
      "Candle_size         0.195568\n",
      "Body_size           0.187867\n",
      "Session_New York    0.001910\n",
      "Session_Asia        0.001610\n",
      "Session_London      0.001133\n",
      "Session_Other       0.000327\n",
      "dtype: float64\n",
      "\n",
      "--- Results for bearish_reversal_outcome ---\n",
      "              precision    recall  f1-score   support\n",
      "\n",
      "           0       0.75      0.76      0.76      7058\n",
      "           1       0.76      0.75      0.76      7209\n",
      "\n",
      "    accuracy                           0.76     14267\n",
      "   macro avg       0.76      0.76      0.76     14267\n",
      "weighted avg       0.76      0.76      0.76     14267\n",
      "\n",
      "\n",
      "Top Feature Importances:\n",
      "Color               0.612325\n",
      "Candle_size         0.194850\n",
      "Body_size           0.188026\n",
      "Session_New York    0.001920\n",
      "Session_Asia        0.001528\n",
      "Session_London      0.001148\n",
      "Session_Other       0.000202\n",
      "dtype: float64\n"
     ]
    }
   ],
   "source": [
    "def evaluate_reversal_classifier(df, outcome_col, feature_cols=None, test_size=0.2, random_state=42):\n",
    "    \"\"\"\n",
    "    Train and evaluate a RandomForestClassifier on a reversal outcome column.\n",
    "\n",
    "    Parameters:\n",
    "    - df: Pandas DataFrame containing features and outcome\n",
    "    - outcome_col: Name of the column with trade outcome (e.g., 'bullish_reversal_outcome')\n",
    "    - feature_cols: List of features to use (default uses ['Color', 'Candle_size', 'Body_size', 'Session'])\n",
    "    - test_size: Proportion of test set (default 0.2)\n",
    "    - random_state: Seed for reproducibility\n",
    "\n",
    "    Returns:\n",
    "    - trained classifier\n",
    "    - classification report\n",
    "    - feature importances\n",
    "    \"\"\"\n",
    "\n",
    "    # Default features\n",
    "    if feature_cols is None:\n",
    "        feature_cols = ['Color', 'Candle_size', 'Body_size', 'Session']\n",
    "\n",
    "    # Filter rows with valid outcome\n",
    "    valid_rows = df[df[outcome_col].isin([True, False])].copy()\n",
    "\n",
    "    # One-hot encode categorical features\n",
    "    X = pd.get_dummies(valid_rows[feature_cols])\n",
    "    y = valid_rows[outcome_col].astype(int)\n",
    "\n",
    "    # Train/test split\n",
    "    X_train, X_test, y_train, y_test = train_test_split(\n",
    "        X, y, test_size=test_size, random_state=random_state, shuffle=True\n",
    "    )\n",
    "\n",
    "    # Train classifier\n",
    "    clf = RandomForestClassifier(class_weight='balanced', random_state=random_state)\n",
    "    clf.fit(X_train, y_train)\n",
    "    y_pred = clf.predict(X_test)\n",
    "\n",
    "    # Output metrics\n",
    "    report = classification_report(y_test, y_pred, output_dict=False)\n",
    "    feature_importances = pd.Series(clf.feature_importances_, index=X.columns).sort_values(ascending=False)\n",
    "\n",
    "    print(f\"\\n--- Results for {outcome_col} ---\")\n",
    "    print(report)\n",
    "    print(\"\\nTop Feature Importances:\")\n",
    "    print(feature_importances.head(10))\n",
    "\n",
    "    return clf, report, feature_importances\n",
    "\n",
    "clf_bull, report_bull, importance_bull = evaluate_reversal_classifier(df = df, outcome_col = 'bullish_reversal_outcome')\n",
    "clf_bear, report_bear, importance_bear = evaluate_reversal_classifier(df = df, outcome_col = 'bearish_reversal_outcome')"
   ]
  },
  {
   "cell_type": "code",
   "execution_count": 15,
   "id": "711b350d-84a9-43cb-94eb-2081e1adc935",
   "metadata": {},
   "outputs": [
    {
     "data": {
      "image/png": "[encoded data removed]",
      "text/plain": [
       "<Figure size 1200x600 with 1 Axes>"
      ]
     },
     "metadata": {},
     "output_type": "display_data"
    }
   ],
   "source": [
    "def unified_high_confidence_strategy(df, clf_bull, clf_bear, prob_threshold=0.7, feature_cols=None):\n",
    "    if feature_cols is None:\n",
    "        feature_cols = ['Color', 'Candle_size', 'Body_size', 'Session']\n",
    "\n",
    "    def prepare_data(outcome_col):\n",
    "        valid = df[df[outcome_col].isin([True, False])].copy()\n",
    "        X = pd.get_dummies(valid[feature_cols])\n",
    "        y = valid[outcome_col].astype(int)\n",
    "\n",
    "        # Ensure same columns\n",
    "        model = clf_bull if outcome_col == 'bullish_reversal_outcome' else clf_bear\n",
    "        for col in model.feature_names_in_:\n",
    "            if col not in X:\n",
    "                X[col] = 0\n",
    "        X = X[model.feature_names_in_]\n",
    "\n",
    "        # Predict probability\n",
    "        proba = model.predict_proba(X)[:, 1]\n",
    "        valid['model_confidence'] = proba\n",
    "        valid['pnl'] = valid[outcome_col].map({True: 1, False: -1})\n",
    "        return valid[valid['model_confidence'] >= prob_threshold].copy()\n",
    "\n",
    "    # Process both directions\n",
    "    bullish_trades = prepare_data('bullish_reversal_outcome')\n",
    "    bearish_trades = prepare_data('bearish_reversal_outcome')\n",
    "\n",
    "    # Combine & sort chronologically\n",
    "    all_trades = pd.concat([bullish_trades, bearish_trades])\n",
    "    all_trades = all_trades.sort_values('DateTime')\n",
    "    all_trades['equity'] = all_trades['pnl'].cumsum()\n",
    "\n",
    "    return all_trades[['DateTime', 'pnl', 'equity', 'model_confidence']]\n",
    "\n",
    "# Run strategy\n",
    "combined_trades = unified_high_confidence_strategy(df, clf_bull, clf_bear, prob_threshold=0.7)\n",
    "\n",
    "# Plot\n",
    "plt.figure(figsize=(12, 6))\n",
    "plt.plot(combined_trades['DateTime'], combined_trades['equity'], label='Combined High-Confidence Equity')\n",
    "plt.title('Equity Curve: High-Confidence Bullish + Bearish Trades')\n",
    "plt.xlabel('Time')\n",
    "plt.ylabel('Cumulative PnL')\n",
    "plt.grid(True)\n",
    "plt.legend()\n",
    "plt.tight_layout()\n",
    "plt.show()"
   ]
  },
  {
   "cell_type": "code",
   "execution_count": 16,
   "id": "0b320710-507f-4a4e-aa1b-4c47fb4f1f5b",
   "metadata": {},
   "outputs": [
    {
     "name": "stdout",
     "output_type": "stream",
     "text": [
      "Strategy Performance\n",
      "----------------------------------------\n",
      "Total Trades:     50211\n",
      "Wins:             44613\n",
      "Losses:           5598\n",
      "Win Rate:         88.85%\n",
      "Average PnL:      0.78\n",
      "Sharpe Ratio:     19.60\n",
      "Max Equity:       39015.00\n",
      "Min Equity:       1.00\n"
     ]
    }
   ],
   "source": [
    "def evaluate_performance(trades_df):\n",
    "    \"\"\"\n",
    "    Print performance statistics for filtered trades.\n",
    "    \n",
    "    Parameters:\n",
    "    - trades_df: DataFrame with 'pnl' and optionally 'model_confidence' and 'DateTime'\n",
    "    \"\"\"\n",
    "    num_trades = len(trades_df)\n",
    "    num_wins = (trades_df['pnl'] == 1).sum()\n",
    "    num_losses = (trades_df['pnl'] == -1).sum()\n",
    "    win_rate = num_wins / num_trades if num_trades else 0\n",
    "\n",
    "    avg_pnl = trades_df['pnl'].mean()\n",
    "    std_pnl = trades_df['pnl'].std()\n",
    "    sharpe = (avg_pnl / std_pnl) * np.sqrt(252) if std_pnl != 0 else np.nan  # annualized Sharpe\n",
    "\n",
    "    print(f\"Strategy Performance\")\n",
    "    print(f\"----------------------------------------\")\n",
    "    print(f\"Total Trades:     {num_trades}\")\n",
    "    print(f\"Wins:             {num_wins}\")\n",
    "    print(f\"Losses:           {num_losses}\")\n",
    "    print(f\"Win Rate:         {win_rate:.2%}\")\n",
    "    print(f\"Average PnL:      {avg_pnl:.2f}\")\n",
    "    print(f\"Sharpe Ratio:     {sharpe:.2f}\")\n",
    "    print(f\"Max Equity:       {trades_df['equity'].max():.2f}\")\n",
    "    print(f\"Min Equity:       {trades_df['equity'].min():.2f}\")\n",
    "\n",
    "evaluate_performance(combined_trades)"
   ]
  },
  {
   "cell_type": "code",
   "execution_count": 18,
   "id": "6eeeb8ae-760c-4778-8673-4b4fd171e10b",
   "metadata": {},
   "outputs": [
    {
     "data": {
      "image/png": "[encoded data removed]",
      "text/plain": [
       "<Figure size 1200x600 with 1 Axes>"
      ]
     },
     "metadata": {},
     "output_type": "display_data"
    }
   ],
   "source": [
    "def unfiltered_strategy(df):\n",
    "    \"\"\"\n",
    "    Returns all valid bullish + bearish trades with raw PnL and equity.\n",
    "    \"\"\"\n",
    "    bullish = df[df['bullish_reversal_outcome'].isin([True, False])].copy()\n",
    "    bearish = df[df['bearish_reversal_outcome'].isin([True, False])].copy()\n",
    "\n",
    "    bullish['pnl'] = bullish['bullish_reversal_outcome'].map({True: 1, False: -1})\n",
    "    bearish['pnl'] = bearish['bearish_reversal_outcome'].map({True: 1, False: -1})\n",
    "\n",
    "    all_trades = pd.concat([bullish, bearish])\n",
    "    all_trades = all_trades.sort_values('DateTime')\n",
    "    all_trades['equity'] = all_trades['pnl'].cumsum()\n",
    "    return all_trades[['DateTime', 'pnl', 'equity']]\n",
    "\n",
    "all_trades = unfiltered_strategy(df)\n",
    "\n",
    "plt.figure(figsize=(12, 6))\n",
    "plt.plot(all_trades['DateTime'], all_trades['equity'], label='All Trades Equity')\n",
    "plt.title('Equity Curve: Bullish + Bearish Trades')\n",
    "plt.xlabel('Time')\n",
    "plt.ylabel('Cumulative PnL')\n",
    "plt.grid(True)\n",
    "plt.legend()\n",
    "plt.tight_layout()\n",
    "plt.show()"
   ]
  },
  {
   "cell_type": "code",
   "execution_count": 19,
   "id": "8baaf7b6-c2cb-4494-b5c8-711967ee6760",
   "metadata": {},
   "outputs": [
    {
     "name": "stdout",
     "output_type": "stream",
     "text": [
      "Strategy Performance\n",
      "----------------------------------------\n",
      "Total Trades:     140807\n",
      "Wins:             71380\n",
      "Losses:           69427\n",
      "Win Rate:         50.69%\n",
      "Average PnL:      0.01\n",
      "Sharpe Ratio:     0.22\n",
      "Max Equity:       1977.00\n",
      "Min Equity:       -14.00\n"
     ]
    }
   ],
   "source": [
    "evaluate_performance(all_trades)"
   ]
  },
  {
   "cell_type": "code",
   "execution_count": null,
   "id": "a436e879-526a-46fa-bc12-cd5b236403b8",
   "metadata": {},
   "outputs": [],
   "source": []
  }
 ],
 "metadata": {
  "kernelspec": {
   "display_name": "Python 3 (ipykernel)",
   "language": "python",
   "name": "python3"
  },
  "language_info": {
   "codemirror_mode": {
    "name": "ipython",
    "version": 3
   },
   "file_extension": ".py",
   "mimetype": "text/x-python",
   "name": "python",
   "nbconvert_exporter": "python",
   "pygments_lexer": "ipython3",
   "version": "3.12.7"
  }
 },
 "nbformat": 4,
 "nbformat_minor": 5
}
